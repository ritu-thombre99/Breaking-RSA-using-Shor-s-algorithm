{
 "cells": [
  {
   "cell_type": "markdown",
   "metadata": {},
   "source": [
    "# Breaking RSA Encryption Scheme using Shor's algorithm"
   ]
  },
  {
   "cell_type": "markdown",
   "metadata": {},
   "source": [
    "# <a id='index'>Index</a>"
   ]
  },
  {
   "cell_type": "markdown",
   "metadata": {},
   "source": [
    "+ <a href='#key'>1. Generation of Keys</a>\n",
    "+ <a href='#encrypt'>2. Encrypting plain_text</a>\n",
    "+ <a href='#decrypt'>3. Decrypting cipher_text</a>\n",
    "+ <a href='#shor'>***4. Shor's function to break RSA***</a>\n",
    "+ <a href='#aux'>5. Auxiliary functions</a>\n",
    "+ <a href='#implementation'>6. Implementation</a>\n",
    "    + <a href='#6.1'>6.1 Generating Keys</a>\n",
    "    + <a href='#6.2'>6.2 Generating plain_text</a>\n",
    "    + <a href='#6.3'>6.3 Encrypting plain_text to generate cipher_text</a>\n",
    "    + <a href='#6.4'>***6.4 Attacking RSA and changing sender's message***</a>\n",
    "    + <a href='#6.5'>6.5 Decrypting cipher_text to generate plain_text</a>\n",
    "    + <a href='#6.6'>6.6 Checking if decrypted plain_text is same as original plain_text</a>\n",
    "+ <a href='#final'>7. Final Remarks</a>"
   ]
  },
  {
   "cell_type": "code",
   "execution_count": 281,
   "metadata": {},
   "outputs": [],
   "source": [
    "import numpy as np\n",
    "import math\n",
    "import gmpy2\n",
    "from gmpy2 import powmod,mpz,isqrt,invert\n",
    "from qiskit.aqua.algorithms import Shor\n",
    "from qiskit.aqua import QuantumInstance\n",
    "from qiskit import Aer,execute,QuantumCircuit\n",
    "from qiskit.tools.visualization import plot_histogram\n",
    "from qiskit.providers.ibmq import least_busy\n",
    "from qiskit import IBMQ, execute"
   ]
  },
  {
   "cell_type": "markdown",
   "metadata": {},
   "source": [
    "# <a id='key'>1. Generation of Keys</a>\n",
    "<a href='#index'>Go back to the top</a>"
   ]
  },
  {
   "cell_type": "markdown",
   "metadata": {},
   "source": [
    "***Key Generation In RSA :***\n",
    "\n",
    "+ Choose 2 primes p,q using gmpy\n",
    "+ n = p*q and $ \\phi (n) = (p-1)*(q-1) $\n",
    "+ Choose $ e $ in $ [2,\\phi(n)-2] $ such that $ e $ and $ \\phi(n) $ are coprimes i.e their gcd is 1\n",
    "+ Choose $ d = e^{-1} mod(\\phi(n)) $\n",
    "+ Return ***Public keys :*** $ (n,e) $\n",
    "+ Return ***Private key :*** $ (d) $"
   ]
  },
  {
   "cell_type": "code",
   "execution_count": 282,
   "metadata": {
    "scrolled": true
   },
   "outputs": [],
   "source": [
    "def generate_keys():\n",
    "    # prime number of 3 digits i.e 7 bits\n",
    "    random1 = np.random.randint(3,40)\n",
    "    random2 = np.random.randint(3,40)\n",
    "    p = int(gmpy2.next_prime(random1))\n",
    "    q = int(gmpy2.next_prime(random2))\n",
    "    n = p*q\n",
    "    while (n<100 or n>127):\n",
    "        random1 = np.random.randint(3,40)\n",
    "        random2 = np.random.randint(3,40)\n",
    "        p = int(gmpy2.next_prime(random1))\n",
    "        q = int(gmpy2.next_prime(random2))\n",
    "        n = p*q\n",
    "    phi = (p-1)*(q-1)\n",
    "    e = 2\n",
    "    while True:\n",
    "        if gmpy2.gcd(phi,e) != 1:\n",
    "            e = e + 1\n",
    "        else :\n",
    "            break\n",
    "    d = gmpy2.invert(e,phi)\n",
    "    return n,e,d"
   ]
  },
  {
   "cell_type": "markdown",
   "metadata": {},
   "source": [
    "# <a id='encrypt'>2. Encrypting plain_text blocks</a>\n",
    "<a href='#index'>Go back to the top</a>"
   ]
  },
  {
   "cell_type": "markdown",
   "metadata": {},
   "source": [
    "***Encyption in RSA :***\n",
    "\n",
    "***Input :*** $ Plain Text = [p_1,p_2,p_3,..........,p_k] $\n",
    "\n",
    "***Output :*** $ Cipher Text = [c_1,c_2,c_3,..........,c_k] $\n",
    "\n",
    "where\n",
    "\n",
    "$ c_{i} = p_{i}^e mod (n) $\n"
   ]
  },
  {
   "cell_type": "code",
   "execution_count": 283,
   "metadata": {},
   "outputs": [],
   "source": [
    "def encrypt(plain_text_blocks,public_keys):\n",
    "    cipher_text_blocks = []\n",
    "    n,e = public_keys\n",
    "    for plain_text in plain_text_blocks:\n",
    "        cipher_text = (gmpy2.powmod(plain_text,e,n))\n",
    "        cipher_text_blocks.append(cipher_text)\n",
    "    return cipher_text_blocks"
   ]
  },
  {
   "cell_type": "markdown",
   "metadata": {},
   "source": [
    "# <a id='decrypt'>3. Decrypting cipher_text</a>\n",
    "<a href='#index'>Go back to the top</a>"
   ]
  },
  {
   "cell_type": "markdown",
   "metadata": {},
   "source": [
    "***Decryption in RSA :***\n",
    "\n",
    "***Input :*** $ Cipher Text = [c_1,c_2,c_3,..........,c_k] $\n",
    "\n",
    "***Output :*** $ Plain Text = [p_1,p_2,p_3,..........,p_k] $\n",
    "\n",
    "$ p_{i} = c_{i}^d mod (n) $"
   ]
  },
  {
   "cell_type": "code",
   "execution_count": 284,
   "metadata": {},
   "outputs": [],
   "source": [
    "def decrypt(cipher_text_blocks,secret_key,public_keys):\n",
    "    n,e = public_keys\n",
    "    d = secret_key\n",
    "    decypted_plain_text_blocks = []\n",
    "    for cipher_text in cipher_text_blocks:\n",
    "        plain_text = (gmpy2.powmod(cipher_text,d,n))\n",
    "        decypted_plain_text_blocks.append(plain_text)\n",
    "    return decypted_plain_text_blocks"
   ]
  },
  {
   "cell_type": "markdown",
   "metadata": {},
   "source": [
    "# <a id='shor'>4. Shor's function to break RSA</a>"
   ]
  },
  {
   "cell_type": "markdown",
   "metadata": {},
   "source": [
    "+ Shor's algorithm requires $ 4*n_{bits} + 4 $ qubits to factorize $ n_{bits} $ bit number\n",
    "+ We are using ***ibm_qasm_simulator*** which has upper limit of $ 32 $ qubits.\n",
    "+ $ 4n_{bits} + 4 \\leq 32 $ solving this we get $ 4n_{bits} \\leq 7 $\n",
    "+ So we can use maximum of 7 bit binary number $ n $ i.e $ n \\leq 127 $\n",
    "+ Since we are encrypting digits from $ 0-99 $ to encode all alpha-numeric characters along with special characters,we want $ n \\gt 100 $\n",
    "+ $ \\therefore 100 \\lt n \\leq 127$ "
   ]
  },
  {
   "cell_type": "code",
   "execution_count": 285,
   "metadata": {},
   "outputs": [],
   "source": [
    "def get_factors(public_keys):\n",
    "    n,e = public_keys\n",
    "    # backend = Aer.get_backend('qasm_simulator')\n",
    "    provider = IBMQ.load_account()\n",
    "    backend = provider.get_backend('ibmq_qasm_simulator')\n",
    "    quantum_instance = QuantumInstance(backend,shots=2500)\n",
    "    find_factors = Shor(n,a=2,quantum_instance=quantum_instance)\n",
    "    factors = Shor.run(find_factors)\n",
    "    p = ((factors['factors'])[0])[0]\n",
    "    q = ((factors['factors'])[0])[1]\n",
    "    print('Factors of',n,'are :',p,q)\n",
    "    \n",
    "    return p,q"
   ]
  },
  {
   "cell_type": "markdown",
   "metadata": {},
   "source": [
    "# <a id='aux'>5. Auxiliary functions</a>\n",
    "<a href='#index'>Go back to the top</a>"
   ]
  },
  {
   "cell_type": "code",
   "execution_count": 286,
   "metadata": {
    "scrolled": true
   },
   "outputs": [],
   "source": [
    "# taken in 'Hello World!!!' returns ['Hello World!','!!']\n",
    "def get_blocks(PT,block_size):\n",
    "    blocks = []\n",
    "    i = 0\n",
    "    while i<len(PT):\n",
    "        temp_str=''\n",
    "        if i+block_size-1 < len(PT):\n",
    "            temp_str=temp_str+PT[i:i+block_size]\n",
    "        else :\n",
    "            temp_str=temp_str+PT[i::]\n",
    "        blocks.append(temp_str)\n",
    "        i=i+block_size\n",
    "    return blocks\n",
    "        \n",
    "# covert plain_text block from characters to the numbers\n",
    "def format_plain_text(PT):\n",
    "    plain_text_blocks = []\n",
    "    for block in PT:\n",
    "        plain_text = 0\n",
    "        for i in range(len(block)):\n",
    "            # for 'd'\n",
    "            if ord(block[i]) == 100:\n",
    "                plain_text = plain_text*100 + 28\n",
    "            # between (101,127)\n",
    "            elif ord(block[i])>100:\n",
    "                plain_text = plain_text*100 + (ord(block[i])-100)\n",
    "            else :\n",
    "                plain_text = plain_text*100 + (ord(block[i]))\n",
    "        plain_text_blocks.append(plain_text)\n",
    "    return plain_text_blocks\n",
    "\n",
    "# convert numeric decypted_plain_text_blocks into a single plain text of characters\n",
    "def format_decrypted_plain_text(decypted_plain_text_blocks):\n",
    "    plain_text_blocks = []\n",
    "    for dc_pt in decypted_plain_text_blocks:\n",
    "        plain_text = ''\n",
    "        temp = dc_pt\n",
    "        # for 'd' temp = 28\n",
    "        while temp > 0:\n",
    "            if temp%100 == 28:\n",
    "                plain_text = plain_text + 'd'\n",
    "            elif (temp%100) in range(0,27):\n",
    "                plain_text = plain_text + chr((temp%100)+100)\n",
    "            else :\n",
    "                plain_text = plain_text + chr((temp%100))\n",
    "            temp = temp//100\n",
    "        plain_text = plain_text[::-1] \n",
    "        plain_text_blocks.append(plain_text)\n",
    "    final_plain_text = ''\n",
    "    for plain_text_block in plain_text_blocks:\n",
    "        final_plain_text = final_plain_text + plain_text_block\n",
    "    return final_plain_text"
   ]
  },
  {
   "cell_type": "markdown",
   "metadata": {},
   "source": [
    "# <a id='implementation'>6. Implementation</a>\n",
    "<a href='#index'>Go back to the top</a>"
   ]
  },
  {
   "cell_type": "markdown",
   "metadata": {},
   "source": [
    "### <a id='6.1'>6.1 Generating Keys</a>"
   ]
  },
  {
   "cell_type": "code",
   "execution_count": 287,
   "metadata": {},
   "outputs": [],
   "source": [
    "n,e,d = generate_keys()"
   ]
  },
  {
   "cell_type": "code",
   "execution_count": 288,
   "metadata": {
    "scrolled": true
   },
   "outputs": [
    {
     "name": "stdout",
     "output_type": "stream",
     "text": [
      "\n",
      "Public Key :\n",
      "n : 119\n",
      "e : 5\n",
      "Secret Key :\n",
      "d : 77\n"
     ]
    }
   ],
   "source": [
    "public_keys = (n,e)\n",
    "secret_key = d\n",
    "print(\"\\nPublic Key :\")\n",
    "print('n :',n)\n",
    "print('e :',e)\n",
    "print(\"Secret Key :\\nd :\",d)"
   ]
  },
  {
   "cell_type": "markdown",
   "metadata": {},
   "source": [
    "### <a id='6.2'>6.2 Generating plain_text</a>"
   ]
  },
  {
   "cell_type": "code",
   "execution_count": 297,
   "metadata": {},
   "outputs": [
    {
     "name": "stdout",
     "output_type": "stream",
     "text": [
      "\n",
      "Enter Plain Text to encrypt : Schrodinger's cat is dead and alive at the same time. This cat represents the (|psi_cat>=0.5*|psi_cat_alive> + 0.5*|psi_cat_dead>) i.e superposition of wave-functions representing cat being dead and alive at the same time.\n"
     ]
    }
   ],
   "source": [
    "PT = input(\"\\nEnter Plain Text to encrypt : \")\n",
    "\n",
    "original_plain_text = PT"
   ]
  },
  {
   "cell_type": "code",
   "execution_count": 290,
   "metadata": {},
   "outputs": [
    {
     "name": "stdout",
     "output_type": "stream",
     "text": [
      "\n",
      "Plain Text after converting to blocks ['S', 'c', 'h', 'r', 'o', 'd', 'i', 'n', 'g', 'e', 'r', \"'\", 's', ' ', 'c', 'a', 't', ' ', 'i', 's', ' ', 'd', 'e', 'a', 'd', ' ', 'a', 'n', 'd', ' ', 'a', 'l', 'i', 'v', 'e', ' ', 'a', 't', ' ', 't', 'h', 'e', ' ', 's', 'a', 'm', 'e', ' ', 't', 'i', 'm', 'e', '.', ' ', 'T', 'h', 'i', 's', ' ', 'c', 'a', 't', ' ', 'r', 'e', 'p', 'r', 'e', 's', 'e', 'n', 't', 's', ' ', 't', 'h', 'e', ' ', '(', '|', 'p', 's', 'i', '_', 'c', 'a', 't', '>', '=', '0', '.', '5', '*', '|', 'p', 's', 'i', '_', 'c', 'a', 't', '_', 'a', 'l', 'i', 'v', 'e', '>', ' ', '+', ' ', '0', '.', '5', '*', '|', 'p', 's', 'i', '_', 'c', 'a', 't', '_', 'd', 'e', 'a', 'd', '>', ')', ' ', 'i', '.', 'e', ' ', 's', 'u', 'p', 'e', 'r', 'p', 'o', 's', 'i', 't', 'i', 'o', 'n', ' ', 'o', 'f', ' ', 'w', 'a', 'v', 'e', '-', 'f', 'u', 'n', 'c', 't', 'i', 'o', 'n', 's', ' ', 'r', 'e', 'p', 'r', 'e', 's', 'e', 'n', 't', 'i', 'n', 'g', ' ', 'c', 'a', 't', ' ', 'b', 'e', 'i', 'n', 'g', ' ', 'd', 'e', 'a', 'd', ' ', 'a', 'n', 'd', ' ', 'a', 'l', 'i', 'v', 'e', ' ', 'a', 't', ' ', 't', 'h', 'e', ' ', 's', 'a', 'm', 'e', ' ', 't', 'i', 'm', 'e', '.']\n"
     ]
    }
   ],
   "source": [
    "block_size = 1\n",
    "PT = get_blocks(PT,block_size)\n",
    "print('\\nPlain Text after converting to blocks',PT)"
   ]
  },
  {
   "cell_type": "code",
   "execution_count": 291,
   "metadata": {},
   "outputs": [
    {
     "name": "stdout",
     "output_type": "stream",
     "text": [
      "\n",
      "Plain text blocks after formatting to numbers: [83, 99, 4, 14, 11, 28, 5, 10, 3, 1, 14, 39, 15, 32, 99, 97, 16, 32, 5, 15, 32, 28, 1, 97, 28, 32, 97, 10, 28, 32, 97, 8, 5, 18, 1, 32, 97, 16, 32, 16, 4, 1, 32, 15, 97, 9, 1, 32, 16, 5, 9, 1, 46, 32, 84, 4, 5, 15, 32, 99, 97, 16, 32, 14, 1, 12, 14, 1, 15, 1, 10, 16, 15, 32, 16, 4, 1, 32, 40, 24, 12, 15, 5, 95, 99, 97, 16, 62, 61, 48, 46, 53, 42, 24, 12, 15, 5, 95, 99, 97, 16, 95, 97, 8, 5, 18, 1, 62, 32, 43, 32, 48, 46, 53, 42, 24, 12, 15, 5, 95, 99, 97, 16, 95, 28, 1, 97, 28, 62, 41, 32, 5, 46, 1, 32, 15, 17, 12, 1, 14, 12, 11, 15, 5, 16, 5, 11, 10, 32, 11, 2, 32, 19, 97, 18, 1, 45, 2, 17, 10, 99, 16, 5, 11, 10, 15, 32, 14, 1, 12, 14, 1, 15, 1, 10, 16, 5, 10, 3, 32, 99, 97, 16, 32, 98, 1, 5, 10, 3, 32, 28, 1, 97, 28, 32, 97, 10, 28, 32, 97, 8, 5, 18, 1, 32, 97, 16, 32, 16, 4, 1, 32, 15, 97, 9, 1, 32, 16, 5, 9, 1, 46]\n"
     ]
    }
   ],
   "source": [
    "plain_text_blocks = format_plain_text(PT)\n",
    "print('\\nPlain text blocks after formatting to numbers:',plain_text_blocks)"
   ]
  },
  {
   "cell_type": "markdown",
   "metadata": {},
   "source": [
    "### <a id='6.3'>6.3 Encrypting plain_text to generate cipher_text</a>"
   ]
  },
  {
   "cell_type": "code",
   "execution_count": 292,
   "metadata": {},
   "outputs": [
    {
     "name": "stdout",
     "output_type": "stream",
     "text": [
      "\n",
      "Cipher Text Blocks After RSA encryption : [mpz(104), mpz(29), mpz(72), mpz(63), mpz(44), mpz(112), mpz(31), mpz(40), mpz(5), mpz(1), mpz(63), mpz(65), mpz(36), mpz(2), mpz(29), mpz(20), mpz(67), mpz(2), mpz(31), mpz(36), mpz(2), mpz(112), mpz(1), mpz(20), mpz(112), mpz(2), mpz(20), mpz(40), mpz(112), mpz(2), mpz(20), mpz(43), mpz(31), mpz(86), mpz(1), mpz(2), mpz(20), mpz(67), mpz(2), mpz(67), mpz(72), mpz(1), mpz(2), mpz(36), mpz(20), mpz(25), mpz(1), mpz(2), mpz(67), mpz(31), mpz(25), mpz(1), mpz(37), mpz(2), mpz(84), mpz(72), mpz(31), mpz(36), mpz(2), mpz(29), mpz(20), mpz(67), mpz(2), mpz(63), mpz(1), mpz(3), mpz(63), mpz(1), mpz(36), mpz(1), mpz(40), mpz(67), mpz(36), mpz(2), mpz(67), mpz(72), mpz(1), mpz(2), mpz(24), mpz(96), mpz(3), mpz(36), mpz(31), mpz(23), mpz(29), mpz(20), mpz(67), mpz(27), mpz(108), mpz(97), mpz(37), mpz(100), mpz(77), mpz(96), mpz(3), mpz(36), mpz(31), mpz(23), mpz(29), mpz(20), mpz(67), mpz(23), mpz(20), mpz(43), mpz(31), mpz(86), mpz(1), mpz(27), mpz(2), mpz(8), mpz(2), mpz(97), mpz(37), mpz(100), mpz(77), mpz(96), mpz(3), mpz(36), mpz(31), mpz(23), mpz(29), mpz(20), mpz(67), mpz(23), mpz(112), mpz(1), mpz(20), mpz(112), mpz(27), mpz(62), mpz(2), mpz(31), mpz(37), mpz(1), mpz(2), mpz(36), mpz(68), mpz(3), mpz(1), mpz(63), mpz(3), mpz(44), mpz(36), mpz(31), mpz(67), mpz(31), mpz(44), mpz(40), mpz(2), mpz(44), mpz(32), mpz(2), mpz(66), mpz(20), mpz(86), mpz(1), mpz(61), mpz(32), mpz(68), mpz(40), mpz(29), mpz(67), mpz(31), mpz(44), mpz(40), mpz(36), mpz(2), mpz(63), mpz(1), mpz(3), mpz(63), mpz(1), mpz(36), mpz(1), mpz(40), mpz(67), mpz(31), mpz(40), mpz(5), mpz(2), mpz(29), mpz(20), mpz(67), mpz(2), mpz(98), mpz(1), mpz(31), mpz(40), mpz(5), mpz(2), mpz(112), mpz(1), mpz(20), mpz(112), mpz(2), mpz(20), mpz(40), mpz(112), mpz(2), mpz(20), mpz(43), mpz(31), mpz(86), mpz(1), mpz(2), mpz(20), mpz(67), mpz(2), mpz(67), mpz(72), mpz(1), mpz(2), mpz(36), mpz(20), mpz(25), mpz(1), mpz(2), mpz(67), mpz(31), mpz(25), mpz(1), mpz(37)]\n"
     ]
    }
   ],
   "source": [
    "cipher_text_blocks = encrypt(plain_text_blocks,public_keys)\n",
    "print(\"\\nCipher Text Blocks After RSA encryption :\",cipher_text_blocks)"
   ]
  },
  {
   "cell_type": "markdown",
   "metadata": {},
   "source": [
    "### <a id='6.4'>6.4 Attacking RSA and changing sender's message</a>"
   ]
  },
  {
   "cell_type": "code",
   "execution_count": 293,
   "metadata": {},
   "outputs": [
    {
     "name": "stderr",
     "output_type": "stream",
     "text": [
      "C:\\ProgramData\\Anaconda3\\lib\\site-packages\\qiskit\\providers\\ibmq\\ibmqfactory.py:192: UserWarning: Timestamps in IBMQ backend properties, jobs, and job results are all now in local time instead of UTC.\n",
      "  warnings.warn('Timestamps in IBMQ backend properties, jobs, and job results '\n",
      "ibmqfactory.load_account:WARNING:2020-12-05 02:48:28,171: Credentials are already in use. The existing account in the session will be replaced.\n",
      "The skip Qobj validation does not work for IBMQ provider. Disable it.\n"
     ]
    },
    {
     "name": "stdout",
     "output_type": "stream",
     "text": [
      "Factors of 119 are : 7 17\n"
     ]
    }
   ],
   "source": [
    "p,q = get_factors(public_keys)\n",
    "phi = (p-1)*(q-1)\n",
    "broken_d = gmpy2.invert(e,phi)\n",
    "compromised_PT = decrypt(cipher_text_blocks,broken_d,public_keys)\n",
    "compromised_PT = format_decrypted_plain_text(compromised_PT)\n",
    "compromised_PT = '!!!Your message has been attacked!!! ' + compromised_PT\n",
    "compromised_PT = get_blocks(compromised_PT,block_size) \n",
    "compromised_PT = format_plain_text(compromised_PT)\n",
    "compromised_CT = encrypt(compromised_PT,public_keys)\n",
    "\n",
    "cipher_text_blocks = compromised_CT"
   ]
  },
  {
   "cell_type": "markdown",
   "metadata": {},
   "source": [
    "### <a id='6.5'>6.5 Decrypting cipher_text to generate plain_text</a>"
   ]
  },
  {
   "cell_type": "code",
   "execution_count": 294,
   "metadata": {},
   "outputs": [
    {
     "name": "stdout",
     "output_type": "stream",
     "text": [
      "\n",
      "Plain Text blocks after decryption of Cipher Text blocks : [mpz(33), mpz(33), mpz(33), mpz(89), mpz(11), mpz(17), mpz(14), mpz(32), mpz(9), mpz(1), mpz(15), mpz(15), mpz(97), mpz(3), mpz(1), mpz(32), mpz(4), mpz(97), mpz(15), mpz(32), mpz(98), mpz(1), mpz(1), mpz(10), mpz(32), mpz(97), mpz(16), mpz(16), mpz(97), mpz(99), mpz(7), mpz(1), mpz(28), mpz(33), mpz(33), mpz(33), mpz(32), mpz(83), mpz(99), mpz(4), mpz(14), mpz(11), mpz(28), mpz(5), mpz(10), mpz(3), mpz(1), mpz(14), mpz(39), mpz(15), mpz(32), mpz(99), mpz(97), mpz(16), mpz(32), mpz(5), mpz(15), mpz(32), mpz(28), mpz(1), mpz(97), mpz(28), mpz(32), mpz(97), mpz(10), mpz(28), mpz(32), mpz(97), mpz(8), mpz(5), mpz(18), mpz(1), mpz(32), mpz(97), mpz(16), mpz(32), mpz(16), mpz(4), mpz(1), mpz(32), mpz(15), mpz(97), mpz(9), mpz(1), mpz(32), mpz(16), mpz(5), mpz(9), mpz(1), mpz(46), mpz(32), mpz(84), mpz(4), mpz(5), mpz(15), mpz(32), mpz(99), mpz(97), mpz(16), mpz(32), mpz(14), mpz(1), mpz(12), mpz(14), mpz(1), mpz(15), mpz(1), mpz(10), mpz(16), mpz(15), mpz(32), mpz(16), mpz(4), mpz(1), mpz(32), mpz(40), mpz(24), mpz(12), mpz(15), mpz(5), mpz(95), mpz(99), mpz(97), mpz(16), mpz(62), mpz(61), mpz(48), mpz(46), mpz(53), mpz(42), mpz(24), mpz(12), mpz(15), mpz(5), mpz(95), mpz(99), mpz(97), mpz(16), mpz(95), mpz(97), mpz(8), mpz(5), mpz(18), mpz(1), mpz(62), mpz(32), mpz(43), mpz(32), mpz(48), mpz(46), mpz(53), mpz(42), mpz(24), mpz(12), mpz(15), mpz(5), mpz(95), mpz(99), mpz(97), mpz(16), mpz(95), mpz(28), mpz(1), mpz(97), mpz(28), mpz(62), mpz(41), mpz(32), mpz(5), mpz(46), mpz(1), mpz(32), mpz(15), mpz(17), mpz(12), mpz(1), mpz(14), mpz(12), mpz(11), mpz(15), mpz(5), mpz(16), mpz(5), mpz(11), mpz(10), mpz(32), mpz(11), mpz(2), mpz(32), mpz(19), mpz(97), mpz(18), mpz(1), mpz(45), mpz(2), mpz(17), mpz(10), mpz(99), mpz(16), mpz(5), mpz(11), mpz(10), mpz(15), mpz(32), mpz(14), mpz(1), mpz(12), mpz(14), mpz(1), mpz(15), mpz(1), mpz(10), mpz(16), mpz(5), mpz(10), mpz(3), mpz(32), mpz(99), mpz(97), mpz(16), mpz(32), mpz(98), mpz(1), mpz(5), mpz(10), mpz(3), mpz(32), mpz(28), mpz(1), mpz(97), mpz(28), mpz(32), mpz(97), mpz(10), mpz(28), mpz(32), mpz(97), mpz(8), mpz(5), mpz(18), mpz(1), mpz(32), mpz(97), mpz(16), mpz(32), mpz(16), mpz(4), mpz(1), mpz(32), mpz(15), mpz(97), mpz(9), mpz(1), mpz(32), mpz(16), mpz(5), mpz(9), mpz(1), mpz(46)]\n"
     ]
    }
   ],
   "source": [
    "decypted_plain_text_blocks = decrypt(cipher_text_blocks,secret_key,public_keys)\n",
    "print(\"\\nPlain Text blocks after decryption of Cipher Text blocks :\",decypted_plain_text_blocks)"
   ]
  },
  {
   "cell_type": "code",
   "execution_count": 295,
   "metadata": {},
   "outputs": [
    {
     "name": "stdout",
     "output_type": "stream",
     "text": [
      "\n",
      "After decryption Plain Text : !!!Your message has been attacked!!! Schrodinger's cat is dead and alive at the same time. This cat represents the (|psi_cat>=0.5*|psi_cat_alive> + 0.5*|psi_cat_dead>) i.e superposition of wave-functions representing cat being dead and alive at the same time.\n"
     ]
    }
   ],
   "source": [
    "plain_text_after_decryption = format_decrypted_plain_text(decypted_plain_text_blocks)\n",
    "print(\"\\nAfter decryption Plain Text :\",plain_text_after_decryption)"
   ]
  },
  {
   "cell_type": "markdown",
   "metadata": {},
   "source": [
    "### <a id='6.6'>6.6 Checking if decrypted plain_text is same as original plain_text</a>"
   ]
  },
  {
   "cell_type": "code",
   "execution_count": 296,
   "metadata": {
    "scrolled": true
   },
   "outputs": [
    {
     "name": "stdout",
     "output_type": "stream",
     "text": [
      "RSA was attacked!!! :(\n"
     ]
    }
   ],
   "source": [
    "if (original_plain_text == plain_text_after_decryption):\n",
    "    print(\"\\nHurrayyy!!!\\n\\nDecrypted plain_text is same as original plain_text! :) \")\n",
    "else :\n",
    "    print('RSA was attacked!!! :(')"
   ]
  },
  {
   "cell_type": "markdown",
   "metadata": {},
   "source": [
    "# <a id='final'>7. Final Remarks</a>\n",
    "<a href='#index'>Go back to the top</a>"
   ]
  },
  {
   "cell_type": "markdown",
   "metadata": {},
   "source": [
    "+ ASCII values :\n",
    "    + ASCII values from 0-31 are not alpha-numeric characters.\n",
    "    + ASCII values from ***32-99 contain [A_Z,a,b,c] and special characters such as @,#,',\",space,etc***\n",
    "    + ASCII values from ***100-126 contain [d-z] which are 3 digit.***\n",
    "    + Since we're ***not using ASCII values from 0-31, we can convert ASCII values of [d-z] to 2-digit number, by subtracting 100 from them.***\n",
    "    + If we subtract 100 from ASCII values of 'd', which is 100, we get 00. ***d will be 00 which 0***, so 'd' is lost in the processing. \n",
    "    + Unused ASCII values we have now are [27,28,29,30,31], so we assign d=28. \n",
    "+ This program uses 3 digit prime number, so it can encrypt upto maximum of 1 characters at a time i.e 2 digits\n",
    "+ So, to encrypt large plain text, ***RSA was implemented as a block cipher.***"
   ]
  },
  {
   "cell_type": "code",
   "execution_count": null,
   "metadata": {},
   "outputs": [],
   "source": []
  }
 ],
 "metadata": {
  "kernelspec": {
   "display_name": "Python 3",
   "language": "python",
   "name": "python3"
  },
  "language_info": {
   "codemirror_mode": {
    "name": "ipython",
    "version": 3
   },
   "file_extension": ".py",
   "mimetype": "text/x-python",
   "name": "python",
   "nbconvert_exporter": "python",
   "pygments_lexer": "ipython3",
   "version": "3.7.9"
  }
 },
 "nbformat": 4,
 "nbformat_minor": 4
}
